{
  "nbformat": 4,
  "nbformat_minor": 0,
  "metadata": {
    "colab": {
      "provenance": []
    },
    "kernelspec": {
      "name": "python3",
      "display_name": "Python 3"
    },
    "language_info": {
      "name": "python"
    }
  },
  "cells": [
    {
      "cell_type": "code",
      "execution_count": null,
      "metadata": {
        "id": "85zAYmbICkau"
      },
      "outputs": [],
      "source": [
        "# List = [1,2,3,4]\n",
        "# Expected is 1,4,9,16"
      ]
    },
    {
      "cell_type": "code",
      "source": [
        "list = [1,2,3,4]\n",
        "for i in list:\n",
        "  print(i**2, end=\",\")"
      ],
      "metadata": {
        "colab": {
          "base_uri": "https://localhost:8080/"
        },
        "id": "pyeM-blsC5Dt",
        "outputId": "7816241a-9415-4a34-b3b7-df812b834485"
      },
      "execution_count": null,
      "outputs": [
        {
          "output_type": "stream",
          "name": "stdout",
          "text": [
            "1,4,9,16,"
          ]
        }
      ]
    },
    {
      "cell_type": "markdown",
      "source": [],
      "metadata": {
        "id": "mDvy_l3FCpvl"
      }
    }
  ]
}